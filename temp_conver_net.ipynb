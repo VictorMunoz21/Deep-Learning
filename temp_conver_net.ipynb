{
  "nbformat": 4,
  "nbformat_minor": 0,
  "metadata": {
    "colab": {
      "provenance": [],
      "authorship_tag": "ABX9TyMD97I7TEPHyZ3/nLn7gfGB",
      "include_colab_link": true
    },
    "kernelspec": {
      "name": "python3",
      "display_name": "Python 3"
    },
    "language_info": {
      "name": "python"
    }
  },
  "cells": [
    {
      "cell_type": "markdown",
      "metadata": {
        "id": "view-in-github",
        "colab_type": "text"
      },
      "source": [
        "<a href=\"https://colab.research.google.com/github/VictorMunoz21/Deep-Learning/blob/main/temp_conver_net.ipynb\" target=\"_parent\"><img src=\"https://colab.research.google.com/assets/colab-badge.svg\" alt=\"Open In Colab\"/></a>"
      ]
    },
    {
      "cell_type": "markdown",
      "source": [
        "#Elaborado por Víctor Muñoz en base a video de Ringa Tech.      \n",
        "Se deseea implementar una red neuronal simple que realice la conversión de unidades de temperatura de grados celsius a grados fahrenheit, sin necesidad de ingresar la ecuación de conversión durante la programación"
      ],
      "metadata": {
        "id": "ufLQVV06wt2c"
      }
    },
    {
      "cell_type": "markdown",
      "source": [
        "importando librerias.  \n",
        "tenserflow --> libreria para inteligencia artificial     \n",
        "numpy --> para arreglos numericos"
      ],
      "metadata": {
        "id": "xwoTnOQsiN5z"
      }
    },
    {
      "cell_type": "code",
      "execution_count": 1,
      "metadata": {
        "id": "wMkg_EWmXbUS"
      },
      "outputs": [],
      "source": [
        "import tensorflow as tf\n",
        "import numpy as np"
      ]
    },
    {
      "cell_type": "markdown",
      "source": [
        "Arreglos de entrada y salida para entrenamiento de la red neuronal"
      ],
      "metadata": {
        "id": "gF4a-Uvqi9IA"
      }
    },
    {
      "cell_type": "code",
      "source": [
        "celsius = np.array([-40, 10, 15, 23, 45, 96, 18], dtype=float)\n",
        "fahrenheit = np.array([-40, 50, 59, 73, 113, 204.8, 64.4 ], dtype=float)"
      ],
      "metadata": {
        "id": "UGRe77G9YjGm"
      },
      "execution_count": 2,
      "outputs": []
    },
    {
      "cell_type": "markdown",
      "source": [
        "Asignación de la capa de salida de tipo densa (Conexión de cada neurona hacia todas las neuronas de la siguiente capa) utilizando keras para utilizar las redes neuronales de manera simple "
      ],
      "metadata": {
        "id": "v-n6kQJJjNkZ"
      }
    },
    {
      "cell_type": "code",
      "source": [
        "layer = tf.keras.layers.Dense(units=1, input_shape = [1])\n",
        "#creación del modelo con keras, de tipo secuencial\n",
        "model = tf.keras.models.Sequential([layer])"
      ],
      "metadata": {
        "id": "Gdq6qqGVcUyD"
      },
      "execution_count": 3,
      "outputs": []
    },
    {
      "cell_type": "markdown",
      "source": [
        "Compilación del modelo por medio de un optimizador Adam y la función de perdida(error cuadratico medio).\n"
      ],
      "metadata": {
        "id": "VFX1CMEWls_a"
      }
    },
    {
      "cell_type": "code",
      "source": [
        "model.compile (\n",
        "    optimizer = tf.keras.optimizers.Adam(learning_rate=0.09),\n",
        "    loss = 'mean_squared_error'\n",
        ")"
      ],
      "metadata": {
        "id": "hJmL5wAJl37G"
      },
      "execution_count": 4,
      "outputs": []
    },
    {
      "cell_type": "markdown",
      "source": [
        "Una vez compilado el modelo, se procede a entrenarlo:"
      ],
      "metadata": {
        "id": "ROtlWPgEohPw"
      }
    },
    {
      "cell_type": "code",
      "source": [
        "print(\"Comenzando entrenamiento...\")\n",
        "history = model.fit(celsius,fahrenheit,epochs=1000,verbose = False)\n",
        "print(\"Entrenamiento finalizado\")"
      ],
      "metadata": {
        "colab": {
          "base_uri": "https://localhost:8080/"
        },
        "id": "w9IFbtkBom0I",
        "outputId": "c3856b3f-dc55-42d0-c45d-d201e4e66fe5"
      },
      "execution_count": 5,
      "outputs": [
        {
          "output_type": "stream",
          "name": "stdout",
          "text": [
            "Comenzando entrenamiento...\n",
            "Entrenamiento finalizado\n"
          ]
        }
      ]
    },
    {
      "cell_type": "markdown",
      "source": [
        "Graficando la función de perdida:"
      ],
      "metadata": {
        "id": "hQ9UWNdTuq5a"
      }
    },
    {
      "cell_type": "code",
      "source": [
        "import matplotlib.pyplot as plt\n",
        "plt.xlabel(\"# de epoca\")\n",
        "plt.ylabel(\"Magnitud de perdida\")\n",
        "plt.plot(history.history['loss'])"
      ],
      "metadata": {
        "colab": {
          "base_uri": "https://localhost:8080/",
          "height": 296
        },
        "id": "A6bt5rtcuwk7",
        "outputId": "90a6885e-56f9-4625-e7d7-90946903deee"
      },
      "execution_count": 6,
      "outputs": [
        {
          "output_type": "execute_result",
          "data": {
            "text/plain": [
              "[<matplotlib.lines.Line2D at 0x7fbb95fa53a0>]"
            ]
          },
          "metadata": {},
          "execution_count": 6
        },
        {
          "output_type": "display_data",
          "data": {
            "text/plain": [
              "<Figure size 432x288 with 1 Axes>"
            ],
            "image/png": "[encoded data removed]"
          },
          "metadata": {
            "needs_background": "light"
          }
        }
      ]
    },
    {
      "cell_type": "markdown",
      "source": [
        "Con 500 vueltas hubiera bastado...\n",
        "Realicemos una prediccón"
      ],
      "metadata": {
        "id": "nmW4z30qvx3R"
      }
    },
    {
      "cell_type": "code",
      "source": [
        "print(\"Realizando una predicción\")\n",
        "result = model.predict([42])\n",
        "print(\"El resultado de la conversión es: \"+ str(result) + \"fahrenheit\")"
      ],
      "metadata": {
        "colab": {
          "base_uri": "https://localhost:8080/"
        },
        "id": "548SBd1yv7cQ",
        "outputId": "13e2bda9-ed76-4dfb-a5a6-5c38e50ff7e3"
      },
      "execution_count": 8,
      "outputs": [
        {
          "output_type": "stream",
          "name": "stdout",
          "text": [
            "Realizando una predicción\n",
            "1/1 [==============================] - 0s 59ms/step\n",
            "El resultado de la conversión es: [[107.50597]]fahrenheit\n"
          ]
        }
      ]
    }
  ]
}